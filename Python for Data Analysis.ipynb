{
 "cells": [
  {
   "cell_type": "markdown",
   "metadata": {},
   "source": [
    "<h1>Round 2: The meat and potatoes </h1>\n",
    "\n",
    "If you hung around for this second tutorial, I have to give you props because you decided to stick with me instead of going to other people who have more experience and more interactive tutorials. So thanks! This time we are getting to the real meat and potatoes, which is actually working with Python to do some interesting things. We will start by getting used to numpy, which is one of the most important libraries and helps you handle lots of tasks that work on data. Then we will get into matplotlib to do some plotting, and pandas to work with spreadsheets. At the end you should be able to use python to analyze some data and have a good grounding for working with data without needing excel or google sheets."
   ]
  },
  {
   "cell_type": "markdown",
   "metadata": {},
   "source": [
    "<h2> Libraries </h2>\n",
    "\n",
    "We need to talk about libraries because they are fundamental to writing and reusing code. If you think about it, it would really suck if you had to rewrite or copy and paste all the code you wanted to use every time. Plus, you would have to reinvent the wheel on so many things. This is where libraries come in. They are a package of functions that are available and provide you with many of the tools you will need. Today we will use numpy, matplotlib, and pandas, so here is how to import them, which means get them ready to be used in your notebook."
   ]
  },
  {
   "cell_type": "code",
   "execution_count": 1,
   "metadata": {},
   "outputs": [],
   "source": [
    "# The simplest way is to simply use the command import _____\n",
    "import numpy\n",
    "# However, many times the names are really long, so you can specify the name you want to use for them\n",
    "import numpy as np \n",
    "# now instead of typing numpy whenever I want to use a function in it, I can type np"
   ]
  },
  {
   "cell_type": "code",
   "execution_count": 3,
   "metadata": {},
   "outputs": [
    {
     "name": "stdout",
     "output_type": "stream",
     "text": [
      "1.18.1\n"
     ]
    }
   ],
   "source": [
    "# Most libraries come with a version which tells you which version you are using,\n",
    "# feel free to check which one you are using, don't worry if yours is different from mine.\n",
    "\n",
    "print(np.__version__)\n",
    "# don't get caught up in the syntax here just yet, we will go over the important parts"
   ]
  },
  {
   "cell_type": "markdown",
   "metadata": {},
   "source": [
    "Often times, you don't need the whole library though, you just need a few specific parts of it. You can import just the parts you need like this."
   ]
  },
  {
   "cell_type": "code",
   "execution_count": 4,
   "metadata": {},
   "outputs": [],
   "source": [
    "from matplotlib import pyplot"
   ]
  },
  {
   "cell_type": "markdown",
   "metadata": {},
   "source": [
    "Now we only got the pyplot part of matplotlib. You can also do the same like this and we can give it a shorter name as well."
   ]
  },
  {
   "cell_type": "code",
   "execution_count": 6,
   "metadata": {},
   "outputs": [],
   "source": [
    "import matplotlib.pyplot as plt"
   ]
  },
  {
   "cell_type": "markdown",
   "metadata": {},
   "source": [
    "So lets talk about using libraries. The best part about them is they provide lots of code that is easily available. You simply call the functions by using a period between the name of the library and the function you want to use. Here are some examples."
   ]
  },
  {
   "cell_type": "code",
   "execution_count": 12,
   "metadata": {},
   "outputs": [
    {
     "name": "stdout",
     "output_type": "stream",
     "text": [
      "[0 1 2 3 4 5 6]\n",
      "[ 1  2  5 10 17 26 37]\n"
     ]
    },
    {
     "data": {
      "image/png": "[encoded data removed]",
      "text/plain": [
       "<Figure size 432x288 with 1 Axes>"
      ]
     },
     "metadata": {
      "needs_background": "light"
     },
     "output_type": "display_data"
    }
   ],
   "source": [
    "x = np.arange(7) # Lets make a group of numbers that contain the values from range(5)\n",
    "\n",
    "y = x**2 + 1 # make y=x**2+1\n",
    "print(x)\n",
    "print(y)\n",
    "\n",
    "plt.plot(x, y) # now plot the (x, y) values and show us a picture of the plot\n",
    "plt.show()"
   ]
  },
  {
   "cell_type": "markdown",
   "metadata": {},
   "source": [
    "So you can see that using libraries is pretty easy, and they contain tons of code and functions so if you ever need something, its usually a good idea to look up the library or google what you are trying to do, since someone else has probably done it."
   ]
  },
  {
   "cell_type": "markdown",
   "metadata": {},
   "source": [
    "<h2> Numpy </h2>\n",
    "\n",
    "Now lets dig into numpy as little bit. At its heart, numpy provides the mathematics and functions to handle data as arrays, which is just a group of values you can perform similar operations with. Lets start by getting used to arrays and what they can provide, especially for performance."
   ]
  },
  {
   "cell_type": "code",
   "execution_count": 14,
   "metadata": {},
   "outputs": [
    {
     "data": {
      "text/plain": [
       "array([  1,   7, -42, 113])"
      ]
     },
     "execution_count": 14,
     "metadata": {},
     "output_type": "execute_result"
    }
   ],
   "source": [
    "# Lets create a list of values first and then make an array out of it\n",
    "z = [1, 7, -42, 113]\n",
    "x = np.array(z)\n",
    "x"
   ]
  },
  {
   "cell_type": "markdown",
   "metadata": {},
   "source": [
    "you can grab specific values the same way you would a list"
   ]
  },
  {
   "cell_type": "code",
   "execution_count": 18,
   "metadata": {},
   "outputs": [
    {
     "data": {
      "text/plain": [
       "array([1, 7])"
      ]
     },
     "execution_count": 18,
     "metadata": {},
     "output_type": "execute_result"
    }
   ],
   "source": [
    "x[0:2] # get the first two values (index 0 and 1) from the array"
   ]
  },
  {
   "cell_type": "markdown",
   "metadata": {},
   "source": [
    "Arrays can be made out of any of the normal types from before and they can be mixed types, but that is usually a bad idea since you cannot easily perform operations on different types."
   ]
  },
  {
   "cell_type": "code",
   "execution_count": 26,
   "metadata": {},
   "outputs": [
    {
     "name": "stdout",
     "output_type": "stream",
     "text": [
      "['a' 'b' 'c']\n",
      "[1 'a' list([3, 7])]\n"
     ]
    }
   ],
   "source": [
    "a = np.array(['a', 'b', 'c'])\n",
    "print(a)\n",
    "\n",
    "# Different types, not a great idea\n",
    "b = np.array([1, 'a', [3, 7]])\n",
    "print(b)"
   ]
  },
  {
   "cell_type": "markdown",
   "metadata": {},
   "source": [
    "arrays let us do some pretty cool things too, like regular math, or sorting or really anything."
   ]
  },
  {
   "cell_type": "code",
   "execution_count": 43,
   "metadata": {},
   "outputs": [
    {
     "name": "stdout",
     "output_type": "stream",
     "text": [
      "[-3.  -2.5 -2.  -1.5 -1.  -0.5  0.   0.5  1.   1.5  2.   2.5  3. ]\n",
      "[ 6.    3.25  1.   -0.75 -2.   -2.75 -3.   -2.75 -2.   -0.75  1.    3.25\n",
      "  6.  ]\n"
     ]
    }
   ],
   "source": [
    "# Lets generate values from -3 to 3 with a point every 1/2 of the way\n",
    "x = np.linspace(-3, 3, 13) # get 13 values from -3 to 3\n",
    "print(x)\n",
    "\n",
    "# Perform math\n",
    "y = x**2 - 3 \n",
    "print(y)"
   ]
  },
  {
   "cell_type": "code",
   "execution_count": 44,
   "metadata": {},
   "outputs": [
    {
     "name": "stdout",
     "output_type": "stream",
     "text": [
      "[-3.   -2.75 -2.75 -2.   -2.   -0.75 -0.75  1.    1.    3.25  3.25  6.\n",
      "  6.  ]\n"
     ]
    }
   ],
   "source": [
    "# Sort the values of y\n",
    "y.sort() # because y is an array, we can just have it sort itself\n",
    "print(y)"
   ]
  },
  {
   "cell_type": "code",
   "execution_count": 53,
   "metadata": {},
   "outputs": [
    {
     "name": "stdout",
     "output_type": "stream",
     "text": [
      "[False  True  True  True  True  True  True False False False False False\n",
      " False]\n",
      "[-3.  -2.5 -2.  -1.5 -1.  -0.5  0.   0.5  1.   1.5  2.   2.5  3. ]\n",
      "[-2.5 -2.  -1.5 -1.  -0.5  0. ]\n"
     ]
    }
   ],
   "source": [
    "# Compare two arrays and determine which is bigger at each point\n",
    "print(x>y)\n",
    "\n",
    "# This tells us which indices of x have values greater than y, we can also get those values specifically\n",
    "print(x)\n",
    "print(x[x>y]) # only the true values from before are printed"
   ]
  },
  {
   "cell_type": "markdown",
   "metadata": {},
   "source": [
    "<b> Caution! </b> You need to be careful if you start making arrays from other arrays, since they actually reference the same values and one change affects them both."
   ]
  },
  {
   "cell_type": "code",
   "execution_count": 54,
   "metadata": {},
   "outputs": [
    {
     "name": "stdout",
     "output_type": "stream",
     "text": [
      "[4 2 3] [4 2 3]\n"
     ]
    }
   ],
   "source": [
    "x = np.array([1, 2, 3])\n",
    "y = x                    # Now y and x point to the exact same things, be careful!\n",
    "y[0] = 4                 # Change the first value to be 4\n",
    "print(x, y)              # Both x and y have changed"
   ]
  },
  {
   "cell_type": "markdown",
   "metadata": {},
   "source": [
    "To get around this, we have to do what is called a \"deep copy\" which just means that you copy the contents into a new spot."
   ]
  },
  {
   "cell_type": "code",
   "execution_count": 55,
   "metadata": {},
   "outputs": [
    {
     "name": "stdout",
     "output_type": "stream",
     "text": [
      "[1 2 3] [4 2 3]\n"
     ]
    }
   ],
   "source": [
    "x = np.array([1, 2, 3])\n",
    "y = x.copy() #          <--- This is the key change\n",
    "y[0] = 4               \n",
    "print(x, y)                # x did not change now, but y did         "
   ]
  },
  {
   "cell_type": "code",
   "execution_count": null,
   "metadata": {},
   "outputs": [],
   "source": []
  }
 ],
 "metadata": {
  "kernelspec": {
   "display_name": "Python 3",
   "language": "python",
   "name": "python3"
  },
  "language_info": {
   "codemirror_mode": {
    "name": "ipython",
    "version": 3
   },
   "file_extension": ".py",
   "mimetype": "text/x-python",
   "name": "python",
   "nbconvert_exporter": "python",
   "pygments_lexer": "ipython3",
   "version": "3.7.6"
  }
 },
 "nbformat": 4,
 "nbformat_minor": 4
}
