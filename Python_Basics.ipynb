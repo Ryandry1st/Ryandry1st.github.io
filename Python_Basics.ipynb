{
 "cells": [
  {
   "cell_type": "markdown",
   "metadata": {},
   "source": [
    "<h3> Printing, variables, functions </h3>"
   ]
  },
  {
   "cell_type": "markdown",
   "metadata": {},
   "source": [
    "Before you even understand python, the common first task is to print \"Hello World!\". To do this we will begin by using the print() function built into python, which will write out whatever is placed inside of the parenthesis. Here is the example below. To run the code from a block, either click on the Run button in the top, or press shift-enter. Feel free to edit any of the code blocks and play around, or make your own. You can add code blocks by clicking on the + in the top left."
   ]
  },
  {
   "cell_type": "code",
   "execution_count": 76,
   "metadata": {},
   "outputs": [
    {
     "name": "stdout",
     "output_type": "stream",
     "text": [
      "Hello World!\n"
     ]
    }
   ],
   "source": [
    "print(\"Hello World!\")"
   ]
  },
  {
   "cell_type": "markdown",
   "metadata": {},
   "source": [
    "Besides just using strings, you can make variables and print those. First lets take a look at some different variables."
   ]
  },
  {
   "cell_type": "code",
   "execution_count": 77,
   "metadata": {},
   "outputs": [],
   "source": [
    "number = 5 \n",
    "dec = 0.2\n",
    "letter = 'a'\n",
    "sentence = 'This is a sentence.'\n",
    "boolean = True"
   ]
  },
  {
   "cell_type": "code",
   "execution_count": 78,
   "metadata": {},
   "outputs": [
    {
     "name": "stdout",
     "output_type": "stream",
     "text": [
      "5\n",
      "0.2\n",
      "a\n",
      "This is a sentence.\n",
      "True\n"
     ]
    }
   ],
   "source": [
    "print(number)\n",
    "print(dec)\n",
    "print(letter)\n",
    "print(sentence)\n",
    "print(boolean)"
   ]
  },
  {
   "cell_type": "markdown",
   "metadata": {},
   "source": [
    "We can also print multiple things at once by seperating each part with a comma."
   ]
  },
  {
   "cell_type": "code",
   "execution_count": 79,
   "metadata": {},
   "outputs": [
    {
     "name": "stdout",
     "output_type": "stream",
     "text": [
      "This is a sentence. This is also a sentence.\n"
     ]
    }
   ],
   "source": [
    "print(sentence, \"This is also a sentence.\")"
   ]
  },
  {
   "cell_type": "markdown",
   "metadata": {},
   "source": [
    "Python accepts basic math and solves this before running the print function."
   ]
  },
  {
   "cell_type": "code",
   "execution_count": 80,
   "metadata": {},
   "outputs": [
    {
     "name": "stdout",
     "output_type": "stream",
     "text": [
      "6\n"
     ]
    }
   ],
   "source": [
    "print(number+1)"
   ]
  },
  {
   "cell_type": "markdown",
   "metadata": {},
   "source": [
    "The following shows some different math operations and add comments next to the code. The comments do not run any code but they can make it easy to understand what is going on."
   ]
  },
  {
   "cell_type": "code",
   "execution_count": 81,
   "metadata": {},
   "outputs": [
    {
     "name": "stdout",
     "output_type": "stream",
     "text": [
      "6\n",
      "3.0\n",
      "12\n",
      "36\n"
     ]
    }
   ],
   "source": [
    "six = number + 1 \n",
    "print(six) \n",
    "print(six/2) # 6/2 = 3\n",
    "print(six*2) # 6*2 = 12\n",
    "print(six**2) # 6^2 = 36"
   ]
  },
  {
   "cell_type": "markdown",
   "metadata": {},
   "source": [
    "We also have other data types which help for combining things together. Lists are made by putting square brackets [ ] around the values and seperating them with commas. Then you can get specific values out by asking for the number of the value you want, starting with the first element as number 0."
   ]
  },
  {
   "cell_type": "code",
   "execution_count": 82,
   "metadata": {},
   "outputs": [
    {
     "name": "stdout",
     "output_type": "stream",
     "text": [
      "one\n",
      "two\n",
      "three\n",
      "['one', 'two', 'three']\n"
     ]
    }
   ],
   "source": [
    "# this is a list\n",
    "my_list = ['one', 'two', 'three']\n",
    "\n",
    "# here we can get the values from the list by asking for the value from an index, starting from 0\n",
    "# or the whole list together without an index\n",
    "\n",
    "print(my_list[0])\n",
    "print(my_list[1])\n",
    "print(my_list[2])\n",
    "# so it goes [0] -> 'one', [1] -> 'two', [2] -> 'three'\n",
    "\n",
    "print(my_list)"
   ]
  },
  {
   "cell_type": "markdown",
   "metadata": {},
   "source": [
    "You can see that Python does not care if there are empty lines in the code, but it is nicer to look at if there are some blank lines to seperate different ideas."
   ]
  },
  {
   "cell_type": "markdown",
   "metadata": {},
   "source": [
    "<h3> If statments, for loops, while loops</h3>"
   ]
  },
  {
   "cell_type": "markdown",
   "metadata": {},
   "source": [
    "All of these things may not seem very useful, since you still have to type everything you want it to do. Now we will look at how to use if statements, for loops, and while loops which solve this problem."
   ]
  },
  {
   "cell_type": "markdown",
   "metadata": {},
   "source": [
    "<h4> If statements </h4>"
   ]
  },
  {
   "cell_type": "markdown",
   "metadata": {},
   "source": [
    "If statements let you check if something is true, and do one thing or another depending on if it is true or false. For example, what if you wanted to know if a variable was larger than 5?"
   ]
  },
  {
   "cell_type": "code",
   "execution_count": 83,
   "metadata": {},
   "outputs": [
    {
     "name": "stdout",
     "output_type": "stream",
     "text": [
      "6 is greater than 5\n"
     ]
    }
   ],
   "source": [
    "my_variable = 6\n",
    "\n",
    "if my_variable > 5:\n",
    "    print(my_variable,\"is greater than 5\")"
   ]
  },
  {
   "cell_type": "markdown",
   "metadata": {},
   "source": [
    "You may notice the syntax, which is the way Python expects code to be written, is a little hard to understand at first. Python uses colons to know when an if/for/while statement is occurring, and it includes all of the code which is tabbed over."
   ]
  },
  {
   "cell_type": "code",
   "execution_count": 84,
   "metadata": {},
   "outputs": [
    {
     "name": "stdout",
     "output_type": "stream",
     "text": [
      "the value is not False\n"
     ]
    }
   ],
   "source": [
    "# or you can check if a value is True or False and do something in either case\n",
    "if boolean is False:\n",
    "    print(boolean)\n",
    "else:\n",
    "    print(\"the value is not False\")"
   ]
  },
  {
   "cell_type": "markdown",
   "metadata": {},
   "source": [
    "<h4> For loops </h4>"
   ]
  },
  {
   "cell_type": "markdown",
   "metadata": {},
   "source": [
    "Now lets take a look at for loops. These allow you to take a group of things and use them one at a time. For example here we can take a list of numbers and print them out one at a time."
   ]
  },
  {
   "cell_type": "code",
   "execution_count": 85,
   "metadata": {},
   "outputs": [
    {
     "name": "stdout",
     "output_type": "stream",
     "text": [
      "0\n",
      "1\n",
      "2\n"
     ]
    }
   ],
   "source": [
    "# example of a for loop\n",
    "counting_up = [0, 1, 2]\n",
    "\n",
    "for index in counting_up:\n",
    "    print(index)"
   ]
  },
  {
   "cell_type": "markdown",
   "metadata": {},
   "source": [
    "In that example we used a list and printed out the values, but we could also make the list be something besides numbers"
   ]
  },
  {
   "cell_type": "code",
   "execution_count": 86,
   "metadata": {},
   "outputs": [
    {
     "name": "stdout",
     "output_type": "stream",
     "text": [
      "a\n",
      "b\n",
      "c\n",
      "d\n"
     ]
    }
   ],
   "source": [
    "new_list = ['a', 'b', 'c', 'd']\n",
    "\n",
    "for letter in new_list:\n",
    "    print(letter)"
   ]
  },
  {
   "cell_type": "code",
   "execution_count": 87,
   "metadata": {},
   "outputs": [
    {
     "name": "stdout",
     "output_type": "stream",
     "text": [
      "a\n",
      "b\n",
      "c\n"
     ]
    }
   ],
   "source": [
    "# we can combine the two examples as well\n",
    "\n",
    "for index in counting_up: # [0, 1, 2]\n",
    "    print(new_list[index]) # this prints the letter for each of the indexes"
   ]
  },
  {
   "cell_type": "code",
   "execution_count": 88,
   "metadata": {},
   "outputs": [
    {
     "name": "stdout",
     "output_type": "stream",
     "text": [
      "a\n",
      "c\n"
     ]
    }
   ],
   "source": [
    "# or only show some values\n",
    "two_indices = [0, 2]\n",
    "\n",
    "for i in two_indices:\n",
    "    print(new_list[i])"
   ]
  },
  {
   "cell_type": "markdown",
   "metadata": {},
   "source": [
    "Combining if statements and for loops is a powerful method to write code one time and use it on all of your data."
   ]
  },
  {
   "cell_type": "code",
   "execution_count": 89,
   "metadata": {},
   "outputs": [
    {
     "name": "stdout",
     "output_type": "stream",
     "text": [
      "the number 0 is below 5\n",
      "the number 2 is below 5\n",
      "the number 4 is below 5\n",
      "6\n",
      "8\n",
      "10\n"
     ]
    }
   ],
   "source": [
    "even_nums = [0, 2, 4, 6, 8, 10]\n",
    "\n",
    "for number in even_nums:\n",
    "    if number > 5:\n",
    "        print(number)\n",
    "    else:\n",
    "        print(\"the number\", number, \"is below 5\")"
   ]
  },
  {
   "cell_type": "markdown",
   "metadata": {},
   "source": [
    "The last useful part to know about for loops are the functions range() and len(). The range() function automatically makes a list which counts up the value you give it, which makes it a nice shorthand for writing for loops that execute a number of times."
   ]
  },
  {
   "cell_type": "code",
   "execution_count": 90,
   "metadata": {},
   "outputs": [],
   "source": [
    "short_hand = range(5) # this is equal to [0, 1, 2, 3, 4]"
   ]
  },
  {
   "cell_type": "code",
   "execution_count": 91,
   "metadata": {},
   "outputs": [
    {
     "name": "stdout",
     "output_type": "stream",
     "text": [
      "0\n",
      "1\n",
      "2\n"
     ]
    }
   ],
   "source": [
    "# to make a shorter for loop\n",
    "for i in range(3):\n",
    "    print(i)"
   ]
  },
  {
   "cell_type": "markdown",
   "metadata": {},
   "source": [
    "You can find out how many values are in a list using len() function."
   ]
  },
  {
   "cell_type": "code",
   "execution_count": 103,
   "metadata": {},
   "outputs": [
    {
     "name": "stdout",
     "output_type": "stream",
     "text": [
      "5\n"
     ]
    }
   ],
   "source": [
    "print(len(short_hand))"
   ]
  },
  {
   "cell_type": "markdown",
   "metadata": {},
   "source": [
    "Combining this with the range function gives a very nice way to work with function and lists."
   ]
  },
  {
   "cell_type": "code",
   "execution_count": 93,
   "metadata": {},
   "outputs": [
    {
     "name": "stdout",
     "output_type": "stream",
     "text": [
      "a\n",
      "b\n",
      "c\n"
     ]
    }
   ],
   "source": [
    "my_list = ['a', 'b', 'c']\n",
    "\n",
    "for index in range(len(my_list)): # counts from 0 up to the length of the list\n",
    "    print(my_list[index])"
   ]
  },
  {
   "cell_type": "markdown",
   "metadata": {},
   "source": [
    "<h4> While loops </h4>"
   ]
  },
  {
   "cell_type": "markdown",
   "metadata": {},
   "source": [
    "What if you wanted your code to just keep running until something happened? This would be difficult to do with for loops, but while loops can solve the problem. These will keep running until the while condition is false."
   ]
  },
  {
   "cell_type": "code",
   "execution_count": 94,
   "metadata": {},
   "outputs": [
    {
     "name": "stdout",
     "output_type": "stream",
     "text": [
      "0 is less than 7\n",
      "1 is less than 7\n",
      "2 is less than 7\n",
      "3 is less than 7\n",
      "4 is less than 7\n",
      "5 is less than 7\n",
      "6 is less than 7\n"
     ]
    }
   ],
   "source": [
    "test = 0\n",
    "\n",
    "while test < 7: # keeps running until test is greater than or equal to 7\n",
    "    print(test, \"is less than 7\")\n",
    "    test = test + 1"
   ]
  },
  {
   "cell_type": "code",
   "execution_count": 104,
   "metadata": {},
   "outputs": [
    {
     "name": "stdout",
     "output_type": "stream",
     "text": [
      "[1, 3, 5, 6, 8, 10]\n"
     ]
    }
   ],
   "source": [
    "# you could also use while loops to change all of the values up to a point.\n",
    "even_nums = [0, 2, 4, 6, 8, 10]\n",
    "test = 0\n",
    "\n",
    "while test < 3:\n",
    "    even_nums[test] = even_nums[test] + 1 # make the first 3 values increase by 1\n",
    "    test = test + 1 # dont forget to increase this or you get stuck in a loop forever!\n",
    "    \n",
    "print(even_nums)"
   ]
  },
  {
   "cell_type": "markdown",
   "metadata": {},
   "source": [
    "If you get caught in a loop forever, go to Kernel in the top and click on Interrupt. This will throw an error so that the code stops running."
   ]
  },
  {
   "cell_type": "markdown",
   "metadata": {},
   "source": [
    "At this point you nearly have the tools you need to understand the basics of python. The final topic we will cover will be defining your own functions. This will allow you to write your functions which can do whatever you want them to do, and reuse that function as much as you like."
   ]
  },
  {
   "cell_type": "markdown",
   "metadata": {},
   "source": [
    "<h3> Functions </h3>"
   ]
  },
  {
   "cell_type": "markdown",
   "metadata": {},
   "source": [
    "The basic syntax is shown below, which starts with the def keyword, and provides the name of the arguments inside of the brackets. Then when you call the function, you can see that it runs the code for the given input, which is called x in this function."
   ]
  },
  {
   "cell_type": "code",
   "execution_count": 96,
   "metadata": {},
   "outputs": [],
   "source": [
    "# this function will square the input given to it and then print it.\n",
    "def my_func(x):\n",
    "    print(x**2)"
   ]
  },
  {
   "cell_type": "code",
   "execution_count": 97,
   "metadata": {},
   "outputs": [
    {
     "name": "stdout",
     "output_type": "stream",
     "text": [
      "25\n"
     ]
    }
   ],
   "source": [
    "# now that the function is defined, lets use it like we do the print function\n",
    "my_func(5) "
   ]
  },
  {
   "cell_type": "markdown",
   "metadata": {},
   "source": [
    "Functions can do a lot more than just printing values. Commonly they are used to calculate something and return it to be used later. Here is an example."
   ]
  },
  {
   "cell_type": "code",
   "execution_count": 98,
   "metadata": {},
   "outputs": [],
   "source": [
    "# this function returns 2 times the input\n",
    "def doubler(x):\n",
    "    x = 2*x\n",
    "    return x"
   ]
  },
  {
   "cell_type": "code",
   "execution_count": 99,
   "metadata": {},
   "outputs": [
    {
     "name": "stdout",
     "output_type": "stream",
     "text": [
      "6\n",
      "my_var is still 3\n"
     ]
    }
   ],
   "source": [
    "# now I can use this function with other variables.\n",
    "my_var = 3\n",
    "\n",
    "# printing the results of doubling my_var does not change its value!\n",
    "print(doubler(my_var))\n",
    "print(\"my_var is still\", my_var)"
   ]
  },
  {
   "cell_type": "code",
   "execution_count": 100,
   "metadata": {},
   "outputs": [
    {
     "name": "stdout",
     "output_type": "stream",
     "text": [
      "12\n"
     ]
    }
   ],
   "source": [
    "# but we can replace it by saving the value\n",
    "\n",
    "my_var = doubler(my_var) # now it is 6\n",
    "\n",
    "my_var = doubler(my_var) # now it is 12\n",
    "\n",
    "print(my_var)"
   ]
  },
  {
   "cell_type": "markdown",
   "metadata": {},
   "source": [
    "You saw that the variable my_var did not change even though we passed it into the function and changed it in there. This is called variable scope and is a big topic. To keep it simple we will just make the remark that functions do not change variables outside of their function and any values you want to change, must be returned from the function. You can also make more complex functions, which call other functions or return multiple values."
   ]
  },
  {
   "cell_type": "code",
   "execution_count": 101,
   "metadata": {},
   "outputs": [
    {
     "name": "stdout",
     "output_type": "stream",
     "text": [
      "10 25\n"
     ]
    }
   ],
   "source": [
    "# take two inputs and return two outputs\n",
    "def complex_func(a, b):\n",
    "    y = doubler(a)\n",
    "    z = b**2\n",
    "    return y,z\n",
    "\n",
    "my_var = 5\n",
    "\n",
    "my_var2, my_var_squared = complex_func(my_var, my_var)\n",
    "\n",
    "print(my_var2, my_var_squared)"
   ]
  },
  {
   "cell_type": "code",
   "execution_count": 105,
   "metadata": {},
   "outputs": [
    {
     "name": "stdout",
     "output_type": "stream",
     "text": [
      "This function took no inputs\n"
     ]
    }
   ],
   "source": [
    "# functions can also have no inputs\n",
    "\n",
    "def no_input_function():\n",
    "    print(\"This function took no inputs\")\n",
    "    \n",
    "no_input_function()"
   ]
  },
  {
   "cell_type": "markdown",
   "metadata": {},
   "source": [
    "This wraps up the content for the first tutorial. Now you have some understanding of the syntax for Python, and how to use it to create variables and lists, write if statements, for and while loops, and write functions. In the next tutorial we will get into two libraries which are useful for handling data, numpy and pandas. Each tutorial will end with a short practice section to see if you understand what was done."
   ]
  },
  {
   "cell_type": "markdown",
   "metadata": {},
   "source": [
    "<h3> Practice </h3>"
   ]
  },
  {
   "cell_type": "markdown",
   "metadata": {},
   "source": [
    "Try to complete the following blocks, the answers are available at the end of the notebook."
   ]
  },
  {
   "cell_type": "code",
   "execution_count": null,
   "metadata": {
    "scrolled": true
   },
   "outputs": [],
   "source": [
    "# make a variable which starts at 3 and adds one to it, then prints out 1/2 of this value\n",
    "my_var = ??\n",
    "\n",
    "\n",
    "\n",
    "\n"
   ]
  },
  {
   "cell_type": "code",
   "execution_count": null,
   "metadata": {},
   "outputs": [],
   "source": [
    "# make a function which takes two inputs and returns the two multiplied together\n",
    "def func(x, y):\n",
    "    ??\n",
    "    \n",
    "    \n",
    "    \n",
    "    \n",
    "    "
   ]
  },
  {
   "cell_type": "code",
   "execution_count": null,
   "metadata": {},
   "outputs": [],
   "source": [
    "# write a for loop that goes three times and replaces var1 with the product of var1 and var2 each time. Then print var1\n",
    "var1 = 6\n",
    "var2 = 13\n",
    "\n",
    "\n",
    "\n",
    "\n",
    "\n"
   ]
  },
  {
   "cell_type": "code",
   "execution_count": null,
   "metadata": {},
   "outputs": [],
   "source": [
    "# make a while loop which will divide var1 by 2 until it is less than 1/2 and then print out what var1 is\n",
    "\n",
    "\n",
    "\n",
    "\n",
    "\n",
    "\n"
   ]
  },
  {
   "cell_type": "code",
   "execution_count": null,
   "metadata": {},
   "outputs": [],
   "source": [
    "# make a list with 5 values in it and use a for loop to add 1 to each value, then print the whole list at once.\n",
    "\n",
    "\n",
    "\n",
    "\n",
    "\n",
    "\n"
   ]
  },
  {
   "cell_type": "markdown",
   "metadata": {},
   "source": [
    "<br>\n",
    "<br>\n",
    "<br>\n",
    "<br>\n",
    "<br>\n",
    "<br>\n",
    "<br>\n",
    "<br>\n",
    "<br>"
   ]
  },
  {
   "cell_type": "markdown",
   "metadata": {},
   "source": [
    "<h3> Answers </h3>"
   ]
  },
  {
   "cell_type": "code",
   "execution_count": 106,
   "metadata": {},
   "outputs": [
    {
     "name": "stdout",
     "output_type": "stream",
     "text": [
      "2.0\n"
     ]
    }
   ],
   "source": [
    "# make a variable which starts at 3 and adds one to it, then prints out 1/2 of this value\n",
    "\n",
    "my_var = 3\n",
    "my_var = my_var + 1 # this could also be done with my_var++\n",
    "print(my_var/2)"
   ]
  },
  {
   "cell_type": "code",
   "execution_count": 107,
   "metadata": {},
   "outputs": [],
   "source": [
    "# make a function which takes two inputs and returns the two multiplied together\n",
    "\n",
    "def func(x, y):\n",
    "    return x*y"
   ]
  },
  {
   "cell_type": "code",
   "execution_count": 108,
   "metadata": {},
   "outputs": [
    {
     "name": "stdout",
     "output_type": "stream",
     "text": [
      "13182\n"
     ]
    }
   ],
   "source": [
    "# write a for loop that goes three times and replaces var1 with the product of var1 and var2 each time. Then print var1\n",
    "\n",
    "var1 = 6\n",
    "var2 = 13\n",
    "\n",
    "for i in range(3):\n",
    "    var1 = func(var1, var2)\n",
    "print(var1)"
   ]
  },
  {
   "cell_type": "code",
   "execution_count": 109,
   "metadata": {},
   "outputs": [
    {
     "name": "stdout",
     "output_type": "stream",
     "text": [
      "0.40228271484375\n"
     ]
    }
   ],
   "source": [
    "# make a while loop which will divide var1 by 2 until it is less than 1/2 and then print out what var1 is\n",
    "\n",
    "while var1 > 0.5:\n",
    "    var1 = var1/2\n",
    "    \n",
    "print(var1)"
   ]
  },
  {
   "cell_type": "code",
   "execution_count": 110,
   "metadata": {},
   "outputs": [
    {
     "name": "stdout",
     "output_type": "stream",
     "text": [
      "[2, 3, 4, 2, -16]\n"
     ]
    }
   ],
   "source": [
    "# make a list with 5 values in it and use a for loop to add 1 to each value, then print the whole list at once.\n",
    "\n",
    "# any values are fine to start with\n",
    "my_list = [1, 2, 3, 1, -17]\n",
    "\n",
    "for item in range(len(my_list)):\n",
    "    my_list[item] = my_list[item] + 1\n",
    "    \n",
    "print(my_list)"
   ]
  }
 ],
 "metadata": {
  "kernelspec": {
   "display_name": "Python 3",
   "language": "python",
   "name": "python3"
  },
  "language_info": {
   "codemirror_mode": {
    "name": "ipython",
    "version": 3
   },
   "file_extension": ".py",
   "mimetype": "text/x-python",
   "name": "python",
   "nbconvert_exporter": "python",
   "pygments_lexer": "ipython3",
   "version": "3.7.6"
  }
 },
 "nbformat": 4,
 "nbformat_minor": 4
}
